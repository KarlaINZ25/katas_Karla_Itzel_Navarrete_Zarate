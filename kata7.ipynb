{
 "cells": [
  {
   "cell_type": "markdown",
   "metadata": {},
   "source": [
    "##### Ejercicio 1:\n",
    "Comienza agregando dos variables, una para la entrada del usuario, con el nombre new_planet, y otra variable para la lista de planetas, denominada planets."
   ]
  },
  {
   "cell_type": "code",
   "execution_count": 5,
   "metadata": {},
   "outputs": [],
   "source": [
    "# Declara dos variables\n",
    "new_planet = input('Escribe planetas porfavor ')\n",
    "planets = ['Mercury', 'Venus', 'Earth', 'Mars']"
   ]
  },
  {
   "cell_type": "markdown",
   "metadata": {},
   "source": [
    "Comenzando con las variables que acabas de crear, crearás un ciclo while. El ciclo while se ejecutará mientras el new_planet no sea igual a la palabra 'done'.\n",
    "\n",
    "Dentro del ciclo, comprobarás si la variable new_planet contiene un valor, que debería ser el nombre de un planeta. Esta es una forma rápida de ver si el usuario ha introducido un valor. Si lo han hecho, tu código agregará (append) ese valor a la variable planets.\n",
    "\n",
    "Finalmente, usarás input para solicitar al usuario que ingrese un nuevo nombre de planeta o que escriba done si ha terminado de ingresar nombres de planeta. Almacenará el valor de input en la variable new_planet."
   ]
  },
  {
   "cell_type": "code",
   "execution_count": 6,
   "metadata": {},
   "outputs": [
    {
     "name": "stdout",
     "output_type": "stream",
     "text": [
      "['Mercury', 'Venus', 'Earth', 'Mars', 'jupiter', 'saturno']\n"
     ]
    }
   ],
   "source": [
    "# Escribe el ciclo while solicitado\n",
    "while new_planet.lower() != 'done':\n",
    "#busqueda = planets.index(new_planet)\n",
    "#busqueda\n",
    "    if new_planet:\n",
    "        planets.append(new_planet)\n",
    "    new_planet= input('Introduce un planeta nuevo')\n",
    "print(planets)\n"
   ]
  },
  {
   "cell_type": "markdown",
   "metadata": {},
   "source": [
    "##### Ejercicio 2:\n",
    "##### Mostrar la lista de los planetas\n",
    "La variable planets almacena los nombres de planeta que ha introducido un usuario. Ahora usarás un ciclo para mostrar esas entradas.\n",
    "\n",
    "Crea un ciclo for para iterar sobre la lista planets. Puedes usar como nombre de la variable planet para cada planeta. Dentro del ciclo for, recuerda utilizar print para mostrar cada planet.\n",
    "\n"
   ]
  },
  {
   "cell_type": "code",
   "execution_count": 10,
   "metadata": {},
   "outputs": [
    {
     "name": "stdout",
     "output_type": "stream",
     "text": [
      "6\n"
     ]
    }
   ],
   "source": [
    "print(len(planets))"
   ]
  },
  {
   "cell_type": "code",
   "execution_count": 12,
   "metadata": {},
   "outputs": [
    {
     "name": "stdout",
     "output_type": "stream",
     "text": [
      "Mercury\n",
      "Venus\n",
      "Earth\n",
      "Mars\n",
      "jupiter\n",
      "saturno\n"
     ]
    }
   ],
   "source": [
    "# Escribe tu ciclo for para iterar en una lista de planetas\n",
    "#la lista de planetas que ya tengo, la tengo que imprimir.\n",
    "for n in planets:\n",
    "    print( n)\n"
   ]
  }
 ],
 "metadata": {
  "interpreter": {
   "hash": "3427c46095f67615e643400576ecdc479aaa0e7e1b9535db7517fa4c9f880cc2"
  },
  "kernelspec": {
   "display_name": "Python 3.9.10 64-bit (windows store)",
   "language": "python",
   "name": "python3"
  },
  "language_info": {
   "codemirror_mode": {
    "name": "ipython",
    "version": 3
   },
   "file_extension": ".py",
   "mimetype": "text/x-python",
   "name": "python",
   "nbconvert_exporter": "python",
   "pygments_lexer": "ipython3",
   "version": "3.9.10"
  },
  "orig_nbformat": 4
 },
 "nbformat": 4,
 "nbformat_minor": 2
}
