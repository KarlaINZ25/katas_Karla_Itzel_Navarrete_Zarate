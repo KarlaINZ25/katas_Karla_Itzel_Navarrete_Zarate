{
 "cells": [
  {
   "cell_type": "markdown",
   "metadata": {},
   "source": [
    "Ejercicio: Uso de funciones en Python"
   ]
  },
  {
   "cell_type": "code",
   "execution_count": 8,
   "metadata": {},
   "outputs": [],
   "source": [
    "# Función para leer 3 tanques de combustible y muestre el promedio\n",
    "def tanques(t1,t2,t3):\n",
    "    prom=(t1 + t2 + t3) /3\n",
    "    return f\"\"\" Reporte:\n",
    "    El promedio es {prom}%\n",
    "    primer tanque {t1}%\n",
    "    segundo tanque {t2}%\n",
    "    tercer tanque {t3}% \n",
    "\"\"\""
   ]
  },
  {
   "cell_type": "markdown",
   "metadata": {},
   "source": [
    "Ahora que hemos definido la función de informes, vamos a comprobarlo. Para esta misión, los tanques no están llenos:"
   ]
  },
  {
   "cell_type": "code",
   "execution_count": 9,
   "metadata": {},
   "outputs": [
    {
     "name": "stdout",
     "output_type": "stream",
     "text": [
      " Reporte:\n",
      "    El promedio es 20.0%\n",
      "    primer tanque 20%\n",
      "    segundo tanque 20%\n",
      "    tercer tanque 20% \n",
      "\n"
     ]
    }
   ],
   "source": [
    "# Llamamos a la función que genera el reporte print(funcion(tanque1, tanque2, tanque3))\n",
    "print(tanques(20, 20, 20))"
   ]
  },
  {
   "cell_type": "markdown",
   "metadata": {},
   "source": [
    "En lugar de simplemente crear el informe, la función también está calculando el promedio. Mejora la legibilidad extrayendo el cálculo promedio de la función en una nueva función para que el promedio se pueda hacer de forma independiente:"
   ]
  },
  {
   "cell_type": "code",
   "execution_count": 14,
   "metadata": {},
   "outputs": [
    {
     "data": {
      "text/plain": [
       "19.0"
      ]
     },
     "execution_count": 14,
     "metadata": {},
     "output_type": "execute_result"
    }
   ],
   "source": [
    "# Función promedio \n",
    "def promedio(valores):\n",
    "    total=sum(valores)\n",
    "    x=len(valores)\n",
    "    return total / x\n",
    "promedio([20,19,18])"
   ]
  },
  {
   "cell_type": "markdown",
   "metadata": {},
   "source": [
    "Ahora actualiza la función de informes para llamando a la nueva función del promedio:"
   ]
  },
  {
   "cell_type": "code",
   "execution_count": 16,
   "metadata": {},
   "outputs": [
    {
     "name": "stdout",
     "output_type": "stream",
     "text": [
      " Reporte:\n",
      "    El promedio es [20, 21, 33]%\n",
      "    primer tanque 20%\n",
      "    segundo tanque 21%\n",
      "    tercer tanque 33% \n",
      "\n"
     ]
    }
   ],
   "source": [
    "# Actualiza la función\n",
    "def tanques(t1,t2,t3):\n",
    "    return f\"\"\" Reporte:\n",
    "    El promedio es {[t1,t2,t3]}%\n",
    "    primer tanque {t1}%\n",
    "    segundo tanque {t2}%\n",
    "    tercer tanque {t3}% \n",
    "\"\"\"\n",
    "print(tanques(20,21,33))\n"
   ]
  },
  {
   "cell_type": "markdown",
   "metadata": {},
   "source": [
    "Ejercicio 2: Trabajo con argumentos de palabra clave"
   ]
  },
  {
   "cell_type": "code",
   "execution_count": 19,
   "metadata": {},
   "outputs": [
    {
     "name": "stdout",
     "output_type": "stream",
     "text": [
      " \n",
      "    Mision digidida a Saturno\n",
      "    Tiempo del viaje: 60 minutos\n",
      "    Combustible : 500 gallones \n",
      "    \n"
     ]
    }
   ],
   "source": [
    "# Función con un informe preciso de la misión. Considera hora de prelanzamiento, tiempo de vuelo, destino, tanque externo y tanque interno\n",
    "def reporte(h_lanzamiento,t_vuelo,destino,t_oxigeno,t_interno):\n",
    "    return f\"\"\" \n",
    "    Mision digidida a {destino}\n",
    "    Tiempo del viaje: {h_lanzamiento + t_vuelo} minutos\n",
    "    Combustible : {t_oxigeno + t_interno} gallones \n",
    "    \"\"\"\n",
    "print(reporte(20,40,\"Saturno\",200,300))"
   ]
  },
  {
   "cell_type": "markdown",
   "metadata": {},
   "source": [
    "La función es problemática porque no se puede adaptar para minutos adicionales o tanques adicionales de combustible. Hazlo más flexible permitiendo cualquier número de pasos basados en el tiempo y cualquier número de tanques. En lugar de usar *args y **kwargs, aprovecha el hecho de que puedes usar cualquier nombre que desees. Asegurate que la función sea más legible mediante el uso de nombres de variables que están asociados con las entradas, como *minutes y **fuel_reservoirs:"
   ]
  },
  {
   "cell_type": "code",
   "execution_count": 20,
   "metadata": {},
   "outputs": [
    {
     "name": "stdout",
     "output_type": "stream",
     "text": [
      "\n",
      "    El destino de la mision es Saturno\n",
      "    duracion del viaje: 28 minutos\n",
      "    Combustible: 1200\n",
      "    \n"
     ]
    }
   ],
   "source": [
    "# Escribe tu nueva función de reporte considerando lo anterior\n",
    "def reporteDos(destino, *minutos, **t):\n",
    "    return f\"\"\"\n",
    "    El destino de la mision es {destino}\n",
    "    duracion del viaje: {sum(minutos)} minutos\n",
    "    Combustible: {sum(t.values())}\n",
    "    \"\"\"\n",
    "\n",
    "print(reporteDos(\"Saturno\",1,2,3,4,5,6,7, t1=200, t2=400, t3=600))"
   ]
  },
  {
   "cell_type": "markdown",
   "metadata": {},
   "source": [
    "Debido a que el combustible que queda en los tanques es específico de cada tanque, actualiza la función para usar el nombre de cada tanque en el informe:"
   ]
  },
  {
   "cell_type": "code",
   "execution_count": 21,
   "metadata": {},
   "outputs": [
    {
     "name": "stdout",
     "output_type": "stream",
     "text": [
      "\n",
      "    El destino de la mision es Jupiter\n",
      "    duracion del viaje: 423 minutos\n",
      "    Combustible: 390031\n",
      "    \n"
     ]
    }
   ],
   "source": [
    "# Escribe tu nueva función\n",
    "def reporteDos(destino, *minutos, **t):\n",
    "    return f\"\"\"\n",
    "    El destino de la mision es {destino}\n",
    "    duracion del viaje: {sum(minutos)} minutos\n",
    "    Combustible: {sum(t.values())}\n",
    "    \"\"\"\n",
    "\n",
    "print(reporteDos(\"Jupiter\",20,400,3, t1=300000, t2=30, t3=90001))"
   ]
  }
 ],
 "metadata": {
  "interpreter": {
   "hash": "3427c46095f67615e643400576ecdc479aaa0e7e1b9535db7517fa4c9f880cc2"
  },
  "kernelspec": {
   "display_name": "Python 3.9.10 64-bit (windows store)",
   "language": "python",
   "name": "python3"
  },
  "language_info": {
   "codemirror_mode": {
    "name": "ipython",
    "version": 3
   },
   "file_extension": ".py",
   "mimetype": "text/x-python",
   "name": "python",
   "nbconvert_exporter": "python",
   "pygments_lexer": "ipython3",
   "version": "3.9.10"
  },
  "orig_nbformat": 4
 },
 "nbformat": 4,
 "nbformat_minor": 2
}
